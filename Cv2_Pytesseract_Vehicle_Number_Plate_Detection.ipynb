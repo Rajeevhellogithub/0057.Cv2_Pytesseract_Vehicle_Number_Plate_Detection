{
 "cells": [
  {
   "cell_type": "markdown",
   "id": "32c0d203-84b1-4133-850c-c652a6a47674",
   "metadata": {},
   "source": [
    "**Number Plate Detection using OpenCV**\n",
    "\n",
    "    * Number plate detection using OpenCV involves using computer vision techniques to locate and extract the license plate region from an image or video frame."
   ]
  },
  {
   "cell_type": "code",
   "execution_count": 1,
   "id": "a22c20d9-5828-4ef6-894d-03007ff25303",
   "metadata": {},
   "outputs": [],
   "source": [
    "import cv2\n",
    "import imutils\n",
    "import pytesseract"
   ]
  },
  {
   "cell_type": "code",
   "execution_count": 2,
   "id": "669606e5-353b-40ef-a977-faba0a7d5724",
   "metadata": {},
   "outputs": [],
   "source": [
    "# https://sourceforge.net/projects/tesseract-ocr.mirror/postdownload\n",
    "\n",
    "pytesseract.pytesseract.tesseract_cmd = r'E:\\PYTHONCLASSTF\\PrakashSenapati\\2024_12_05_Number_Plate_Detection\\tesseract-ocr-w64-setup-5.5.0.20241111.exe'"
   ]
  },
  {
   "cell_type": "code",
   "execution_count": 3,
   "id": "6f7efd3e-5260-47cd-904d-3bb052dcd400",
   "metadata": {},
   "outputs": [],
   "source": [
    "image = cv2.imread(r'E:\\PYTHONCLASSTF\\PrakashSenapati\\2024_12_05_Number_Plate_Detection\\jeep.jpg')\n",
    "resized_image = imutils.resize(image)\n",
    "cv2.imshow('original image', image)\n",
    "cv2.waitKey(0)\n",
    "cv2.destroyAllWindows()"
   ]
  },
  {
   "cell_type": "code",
   "execution_count": 4,
   "id": "8d046032-48e1-4099-9ec0-d1085b3914a2",
   "metadata": {},
   "outputs": [],
   "source": [
    "gray_image = cv2.cvtColor(image, cv2.COLOR_BGR2GRAY)\n",
    "cv2.imshow(\"greyed image\", gray_image)\n",
    "cv2.waitKey(0)\n",
    "cv2.destroyAllWindows()"
   ]
  },
  {
   "cell_type": "code",
   "execution_count": 5,
   "id": "d57dd1a8-f99d-4400-8af2-1a0dd160db86",
   "metadata": {},
   "outputs": [],
   "source": [
    "gray_image = cv2.bilateralFilter(gray_image, 11, 17, 17) \n",
    "cv2.imshow(\"smoothened image\", gray_image)\n",
    "cv2.waitKey(0)\n",
    "cv2.destroyAllWindows()"
   ]
  },
  {
   "cell_type": "code",
   "execution_count": 6,
   "id": "9f0a0e5f-c5d0-4061-b591-7f3df01901e0",
   "metadata": {},
   "outputs": [],
   "source": [
    "edged = cv2.Canny(gray_image, 30, 200) \n",
    "cv2.imshow(\"edged image\", edged)\n",
    "cv2.waitKey(0)\n",
    "cv2.destroyAllWindows()"
   ]
  },
  {
   "cell_type": "code",
   "execution_count": 7,
   "id": "93cf33ce-c12e-4cdd-a1f4-61c926ac5cdd",
   "metadata": {},
   "outputs": [],
   "source": [
    "cnts,new = cv2.findContours(edged.copy(), cv2.RETR_LIST, cv2.CHAIN_APPROX_SIMPLE)\n",
    "image1=image.copy()\n",
    "cv2.drawContours(image1,cnts,-1,(0,255,0),3)\n",
    "cv2.imshow(\"contours\",image1)\n",
    "cv2.waitKey(0)\n",
    "cv2.destroyAllWindows()"
   ]
  },
  {
   "cell_type": "code",
   "execution_count": 8,
   "id": "3f70b5d1-ca80-40b5-bbdf-622e06663dc4",
   "metadata": {},
   "outputs": [],
   "source": [
    "cnts = sorted(cnts, key = cv2.contourArea, reverse = True) [:30]\n",
    "screenCnt = None\n",
    "image2 = image.copy()\n",
    "cv2.drawContours(image2,cnts,-1,(0,255,0),3)\n",
    "cv2.imshow(\"Top 30 contours\",image2)\n",
    "cv2.waitKey(0)\n",
    "cv2.destroyAllWindows()"
   ]
  },
  {
   "cell_type": "code",
   "execution_count": 9,
   "id": "c7391c4d-3eed-45ec-b3a1-459787173f4a",
   "metadata": {},
   "outputs": [],
   "source": [
    "i=7\n",
    "for c in cnts:\n",
    "        perimeter = cv2.arcLength(c, True)\n",
    "        approx = cv2.approxPolyDP(c, 0.018 * perimeter, True)\n",
    "        if len(approx) == 4: \n",
    "                screenCnt = approx\n",
    "                x,y,w,h = cv2.boundingRect(c) \n",
    "                new_img=image[y:y+h,x:x+w]\n",
    "                cv2.imwrite('./'+str(i)+'.png',new_img)\n",
    "                i+=1\n",
    "                break"
   ]
  },
  {
   "cell_type": "code",
   "execution_count": 10,
   "id": "3ae9458f-9866-4c70-b080-c4bc971062e8",
   "metadata": {},
   "outputs": [],
   "source": [
    "cv2.drawContours(image, [screenCnt], -1, (0, 255, 0), 3)\n",
    "cv2.imshow(\"image with detected license plate\", image)\n",
    "cv2.waitKey(0)\n",
    "cv2.destroyAllWindows()"
   ]
  }
 ],
 "metadata": {
  "kernelspec": {
   "display_name": "tensorflowkernel",
   "language": "python",
   "name": "tensorflowkernel"
  },
  "language_info": {
   "codemirror_mode": {
    "name": "ipython",
    "version": 3
   },
   "file_extension": ".py",
   "mimetype": "text/x-python",
   "name": "python",
   "nbconvert_exporter": "python",
   "pygments_lexer": "ipython3",
   "version": "3.12.4"
  }
 },
 "nbformat": 4,
 "nbformat_minor": 5
}
